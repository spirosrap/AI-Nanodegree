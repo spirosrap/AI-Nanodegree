{
 "cells": [
  {
   "cell_type": "markdown",
   "metadata": {
    "collapsed": true
   },
   "source": [
    "# Artificial Intelligence Nanodegree\n",
    "## Machine Translation Project\n",
    "In this notebook, sections that end with **'(IMPLEMENTATION)'** in the header indicate that the following blocks of code will require additional functionality which you must provide. Please be sure to read the instructions carefully!\n",
    "\n",
    "## Introduction\n",
    "In this notebook, you will build a deep neural network that functions as part of an end-to-end machine translation pipeline. Your completed pipeline will accept English text as input and return the French translation.\n",
    "\n",
    "- **Preprocess** - You'll convert text to sequence of integers.\n",
    "- **Models** Create models which accepts a sequence of integers as input and returns a probability distribution over possible translations. After learning about the basic types of neural networks that are often used for machine translation, you will engage in your own investigations, to design your own model!\n",
    "- **Prediction** Run the model on English text.\n",
    "\n",
    "## Dataset\n",
    "We begin by investigating the dataset that will be used to train and evaluate your pipeline.  The most common datasets used for machine translation are from [WMT](http://www.statmt.org/).  However, that will take a long time to train a neural network on.  We'll be using a dataset we created for this project that contains a small vocabulary.  You'll be able to train your model in a reasonable time with this dataset.\n",
    "### Load Data\n",
    "The data is located in `data/small_vocab_en` and `data/small_vocab_fr`. The `small_vocab_en` file contains English sentences with their French translations in the `small_vocab_fr` file. Load the English and French data from these files from running the cell below."
   ]
  },
  {
   "cell_type": "code",
   "execution_count": 2,
   "metadata": {},
   "outputs": [
    {
     "name": "stdout",
     "output_type": "stream",
     "text": [
      "Dataset Loaded\n"
     ]
    }
   ],
   "source": [
    "import helper\n",
    "\n",
    "\n",
    "# Load English data\n",
    "english_sentences = helper.load_data('data/small_vocab_en')\n",
    "# Load French data\n",
    "french_sentences = helper.load_data('data/small_vocab_fr')\n",
    "\n",
    "print('Dataset Loaded')"
   ]
  },
  {
   "cell_type": "markdown",
   "metadata": {},
   "source": [
    "### Files\n",
    "Each line in `small_vocab_en` contains an English sentence with the respective translation in each line of `small_vocab_fr`.  View the first two lines from each file."
   ]
  },
  {
   "cell_type": "code",
   "execution_count": 3,
   "metadata": {},
   "outputs": [
    {
     "name": "stdout",
     "output_type": "stream",
     "text": [
      "small_vocab_en Line 1:  new jersey is sometimes quiet during autumn , and it is snowy in april .\n",
      "small_vocab_fr Line 1:  new jersey est parfois calme pendant l' automne , et il est neigeux en avril .\n",
      "small_vocab_en Line 2:  the united states is usually chilly during july , and it is usually freezing in november .\n",
      "small_vocab_fr Line 2:  les états-unis est généralement froid en juillet , et il gèle habituellement en novembre .\n"
     ]
    }
   ],
   "source": [
    "for sample_i in range(2):\n",
    "    print('small_vocab_en Line {}:  {}'.format(sample_i + 1, english_sentences[sample_i]))\n",
    "    print('small_vocab_fr Line {}:  {}'.format(sample_i + 1, french_sentences[sample_i]))"
   ]
  },
  {
   "cell_type": "markdown",
   "metadata": {},
   "source": [
    "From looking at the sentences, you can see they have been preprocessed already.  The puncuations have been delimited using spaces. All the text have been converted to lowercase.  This should save you some time, but the text requires more preprocessing.\n",
    "### Vocabulary\n",
    "The complexity of the problem is determined by the complexity of the vocabulary.  A more complex vocabulary is a more complex problem.  Let's look at the complexity of the dataset we'll be working with."
   ]
  },
  {
   "cell_type": "code",
   "execution_count": 4,
   "metadata": {},
   "outputs": [
    {
     "name": "stdout",
     "output_type": "stream",
     "text": [
      "1823250 English words.\n",
      "227 unique English words.\n",
      "10 Most common words in the English dataset:\n",
      "\"is\" \",\" \".\" \"in\" \"it\" \"during\" \"the\" \"but\" \"and\" \"sometimes\"\n",
      "\n",
      "1961295 French words.\n",
      "355 unique French words.\n",
      "10 Most common words in the French dataset:\n",
      "\"est\" \".\" \",\" \"en\" \"il\" \"les\" \"mais\" \"et\" \"la\" \"parfois\"\n"
     ]
    }
   ],
   "source": [
    "import collections\n",
    "\n",
    "\n",
    "english_words_counter = collections.Counter([word for sentence in english_sentences for word in sentence.split()])\n",
    "french_words_counter = collections.Counter([word for sentence in french_sentences for word in sentence.split()])\n",
    "\n",
    "print('{} English words.'.format(len([word for sentence in english_sentences for word in sentence.split()])))\n",
    "print('{} unique English words.'.format(len(english_words_counter)))\n",
    "print('10 Most common words in the English dataset:')\n",
    "print('\"' + '\" \"'.join(list(zip(*english_words_counter.most_common(10)))[0]) + '\"')\n",
    "print()\n",
    "print('{} French words.'.format(len([word for sentence in french_sentences for word in sentence.split()])))\n",
    "print('{} unique French words.'.format(len(french_words_counter)))\n",
    "print('10 Most common words in the French dataset:')\n",
    "print('\"' + '\" \"'.join(list(zip(*french_words_counter.most_common(10)))[0]) + '\"')"
   ]
  },
  {
   "cell_type": "markdown",
   "metadata": {},
   "source": [
    "For comparison, _Alice's Adventures in Wonderland_ contains 2,766 unique words of a total of 15,500 words.\n",
    "## Preprocess\n",
    "For this project, you won't use text data as input to your model. Instead, you'll convert the text into sequences of integers using the following preprocess methods:\n",
    "1. Tokenize the words into ids\n",
    "2. Add padding to make all the sequences the same length.\n",
    "\n",
    "Time to start preprocessing the data...\n",
    "### Tokenize (IMPLEMENTATION)\n",
    "For a neural network to predict on text data, it first has to be turned into data it can understand. Text data like \"dog\" is a sequence of ASCII character encodings.  Since a neural network is a series of multiplication and addition operations, the input data needs to be number(s).\n",
    "\n",
    "We can turn each character into a number or each word into a number.  These are called character and word ids, respectively.  Character ids are used for character level models that generate text predictions for each character.  A word level model uses word ids that generate text predictions for each word.  Word level models tend to learn better, since they are lower in complexity, so we'll use those.\n",
    "\n",
    "Turn each sentence into a sequence of words ids using Keras's [`Tokenizer`](https://keras.io/preprocessing/text/#tokenizer) function. Use this function to tokenize `english_sentences` and `french_sentences` in the cell below.\n",
    "\n",
    "Running the cell will run `tokenize` on sample data and show output for debugging."
   ]
  },
  {
   "cell_type": "code",
   "execution_count": 5,
   "metadata": {},
   "outputs": [
    {
     "name": "stdout",
     "output_type": "stream",
     "text": [
      "{'the': 1, 'quick': 2, 'a': 3, 'brown': 4, 'fox': 5, 'jumps': 6, 'over': 7, 'lazy': 8, 'dog': 9, 'by': 10, 'jove': 11, 'my': 12, 'study': 13, 'of': 14, 'lexicography': 15, 'won': 16, 'prize': 17, 'this': 18, 'is': 19, 'short': 20, 'sentence': 21}\n",
      "\n",
      "Sequence 1 in x\n",
      "  Input:  The quick brown fox jumps over the lazy dog .\n",
      "  Output: [1, 2, 4, 5, 6, 7, 1, 8, 9]\n",
      "Sequence 2 in x\n",
      "  Input:  By Jove , my quick study of lexicography won a prize .\n",
      "  Output: [10, 11, 12, 2, 13, 14, 15, 16, 3, 17]\n",
      "Sequence 3 in x\n",
      "  Input:  This is a short sentence .\n",
      "  Output: [18, 19, 3, 20, 21]\n"
     ]
    }
   ],
   "source": [
    "import project_tests as tests\n",
    "from keras.preprocessing.text import Tokenizer\n",
    "\n",
    "\n",
    "def tokenize(x):\n",
    "    \"\"\"\n",
    "    Tokenize x\n",
    "    :param x: List of sentences/strings to be tokenized\n",
    "    :return: Tuple of (tokenized x data, tokenizer used to tokenize x)\n",
    "    \"\"\"\n",
    "    # TODO: Implement\n",
    "    tokenizer = Tokenizer()\n",
    "    tokenizer.fit_on_texts(x)\n",
    "    return tokenizer.texts_to_sequences(x),tokenizer\n",
    "\n",
    "tests.test_tokenize(tokenize)\n",
    "\n",
    "# Tokenize Example output\n",
    "text_sentences = [\n",
    "    'The quick brown fox jumps over the lazy dog .',\n",
    "    'By Jove , my quick study of lexicography won a prize .',\n",
    "    'This is a short sentence .']\n",
    "text_tokenized, text_tokenizer = tokenize(text_sentences)\n",
    "print(text_tokenizer.word_index)\n",
    "print()\n",
    "for sample_i, (sent, token_sent) in enumerate(zip(text_sentences, text_tokenized)):\n",
    "    print('Sequence {} in x'.format(sample_i + 1))\n",
    "    print('  Input:  {}'.format(sent))\n",
    "    print('  Output: {}'.format(token_sent))"
   ]
  },
  {
   "cell_type": "markdown",
   "metadata": {},
   "source": [
    "### Padding (IMPLEMENTATION)\n",
    "When batching the sequence of word ids together, each sequence needs to be the same length.  Since sentences are dynamic in length, we can add padding to the end of the sequences to make them the same length.\n",
    "\n",
    "Make sure all the English sequences have the same length and all the French sequences have the same length by adding padding to the **end** of each sequence using Keras's [`pad_sequences`](https://keras.io/preprocessing/sequence/#pad_sequences) function."
   ]
  },
  {
   "cell_type": "code",
   "execution_count": 6,
   "metadata": {},
   "outputs": [
    {
     "name": "stdout",
     "output_type": "stream",
     "text": [
      "Sequence 1 in x\n",
      "  Input:  [1 2 4 5 6 7 1 8 9]\n",
      "  Output: [1 2 4 5 6 7 1 8 9 0]\n",
      "Sequence 2 in x\n",
      "  Input:  [10 11 12  2 13 14 15 16  3 17]\n",
      "  Output: [10 11 12  2 13 14 15 16  3 17]\n",
      "Sequence 3 in x\n",
      "  Input:  [18 19  3 20 21]\n",
      "  Output: [18 19  3 20 21  0  0  0  0  0]\n"
     ]
    }
   ],
   "source": [
    "import numpy as np\n",
    "from keras.preprocessing.sequence import pad_sequences\n",
    "\n",
    "\n",
    "def pad(x, length=None):\n",
    "    \"\"\"\n",
    "    Pad x\n",
    "    :param x: List of sequences.\n",
    "    :param length: Length to pad the sequence to.  If None, use length of longest sequence in x.\n",
    "    :return: Padded numpy array of sequences\n",
    "    \"\"\"\n",
    "    # TODO: Implement\n",
    "    return pad_sequences(x,maxlen=length,padding='post')\n",
    "\n",
    "tests.test_pad(pad)\n",
    "\n",
    "# Pad Tokenized output\n",
    "test_pad = pad(text_tokenized)\n",
    "for sample_i, (token_sent, pad_sent) in enumerate(zip(text_tokenized, test_pad)):\n",
    "    print('Sequence {} in x'.format(sample_i + 1))\n",
    "    print('  Input:  {}'.format(np.array(token_sent)))\n",
    "    print('  Output: {}'.format(pad_sent))"
   ]
  },
  {
   "cell_type": "markdown",
   "metadata": {},
   "source": [
    "### Preprocess Pipeline\n",
    "Your focus for this project is to build neural network architecture, so we won't ask you to create a preprocess pipeline.  Instead, we've provided you with the implementation of the `preprocess` function."
   ]
  },
  {
   "cell_type": "code",
   "execution_count": 7,
   "metadata": {},
   "outputs": [
    {
     "name": "stdout",
     "output_type": "stream",
     "text": [
      "Data Preprocessed\n"
     ]
    }
   ],
   "source": [
    "def preprocess(x, y):\n",
    "    \"\"\"\n",
    "    Preprocess x and y\n",
    "    :param x: Feature List of sentences\n",
    "    :param y: Label List of sentences\n",
    "    :return: Tuple of (Preprocessed x, Preprocessed y, x tokenizer, y tokenizer)\n",
    "    \"\"\"\n",
    "    preprocess_x, x_tk = tokenize(x)\n",
    "    preprocess_y, y_tk = tokenize(y)\n",
    "\n",
    "    preprocess_x = pad(preprocess_x)\n",
    "    preprocess_y = pad(preprocess_y)\n",
    "\n",
    "    # Keras's sparse_categorical_crossentropy function requires the labels to be in 3 dimensions\n",
    "    preprocess_y = preprocess_y.reshape(*preprocess_y.shape, 1)\n",
    "\n",
    "    return preprocess_x, preprocess_y, x_tk, y_tk\n",
    "\n",
    "preproc_english_sentences, preproc_french_sentences, english_tokenizer, french_tokenizer =\\\n",
    "    preprocess(english_sentences, french_sentences)\n",
    "\n",
    "print('Data Preprocessed')"
   ]
  },
  {
   "cell_type": "markdown",
   "metadata": {},
   "source": [
    "## Models\n",
    "In this section, you will experiment with various neural network architectures.\n",
    "You will begin by training four relatively simple architectures.\n",
    "- Model 1 is a simple RNN\n",
    "- Model 2 is a RNN with Embedding\n",
    "- Model 3 is a Bidirectional RNN\n",
    "- Model 4 is an optional Encoder-Decoder RNN\n",
    "\n",
    "After experimenting with the four simple architectures, you will construct a deeper architecture that is designed to outperform all four models.\n",
    "### Ids Back to Text\n",
    "The neural network will be translating the input to words ids, which isn't the final form we want.  We want the French translation.  The function `logits_to_text` will bridge the gap between the logits from the neural network to the French translation.  You'll be using this function to better understand the output of the neural network."
   ]
  },
  {
   "cell_type": "code",
   "execution_count": 8,
   "metadata": {},
   "outputs": [
    {
     "name": "stdout",
     "output_type": "stream",
     "text": [
      "`logits_to_text` function loaded.\n"
     ]
    }
   ],
   "source": [
    "def logits_to_text(logits, tokenizer):\n",
    "    \"\"\"\n",
    "    Turn logits from a neural network into text using the tokenizer\n",
    "    :param logits: Logits from a neural network\n",
    "    :param tokenizer: Keras Tokenizer fit on the labels\n",
    "    :return: String that represents the text of the logits\n",
    "    \"\"\"\n",
    "    index_to_words = {id: word for word, id in tokenizer.word_index.items()}\n",
    "    index_to_words[0] = '<PAD>'\n",
    "\n",
    "    return ' '.join([index_to_words[prediction] for prediction in np.argmax(logits, 1)])\n",
    "\n",
    "print('`logits_to_text` function loaded.')"
   ]
  },
  {
   "cell_type": "markdown",
   "metadata": {},
   "source": [
    "### Model 1: RNN (IMPLEMENTATION)\n",
    "![RNN](images/rnn.png)\n",
    "A basic RNN model is a good baseline for sequence data.  In this model, you'll build a RNN that translates English to French."
   ]
  },
  {
   "cell_type": "code",
   "execution_count": 103,
   "metadata": {},
   "outputs": [
    {
     "name": "stdout",
     "output_type": "stream",
     "text": [
      "Train on 110288 samples, validate on 27573 samples\n",
      "Epoch 1/20\n",
      "110288/110288 [==============================] - 10s - loss: 1.7805 - acc: 0.5636 - val_loss: nan - val_acc: 0.6379\n",
      "Epoch 2/20\n",
      "110288/110288 [==============================] - 8s - loss: 1.2194 - acc: 0.6389 - val_loss: nan - val_acc: 0.6698\n",
      "Epoch 3/20\n",
      "110288/110288 [==============================] - 8s - loss: 1.0959 - acc: 0.6584 - val_loss: nan - val_acc: 0.6890\n",
      "Epoch 4/20\n",
      "110288/110288 [==============================] - 8s - loss: 1.0284 - acc: 0.6701 - val_loss: nan - val_acc: 0.7019\n",
      "Epoch 5/20\n",
      "110288/110288 [==============================] - 8s - loss: 0.9791 - acc: 0.6792 - val_loss: nan - val_acc: 0.7124\n",
      "Epoch 6/20\n",
      "110288/110288 [==============================] - 8s - loss: 0.9391 - acc: 0.6872 - val_loss: nan - val_acc: 0.7204\n",
      "Epoch 7/20\n",
      "110288/110288 [==============================] - 8s - loss: 0.9052 - acc: 0.6950 - val_loss: nan - val_acc: 0.7244\n",
      "Epoch 8/20\n",
      "110288/110288 [==============================] - 8s - loss: 0.8752 - acc: 0.7030 - val_loss: nan - val_acc: 0.7363\n",
      "Epoch 9/20\n",
      "110288/110288 [==============================] - 8s - loss: 0.8450 - acc: 0.7118 - val_loss: nan - val_acc: 0.7517\n",
      "Epoch 10/20\n",
      "110288/110288 [==============================] - 8s - loss: 0.8086 - acc: 0.7257 - val_loss: nan - val_acc: 0.7684\n",
      "Epoch 11/20\n",
      "110288/110288 [==============================] - 8s - loss: 0.7699 - acc: 0.7408 - val_loss: nan - val_acc: 0.7810\n",
      "Epoch 12/20\n",
      "110288/110288 [==============================] - 8s - loss: 0.7400 - acc: 0.7508 - val_loss: nan - val_acc: 0.7947\n",
      "Epoch 13/20\n",
      "110288/110288 [==============================] - 9s - loss: 0.7167 - acc: 0.7585 - val_loss: nan - val_acc: 0.8012\n",
      "Epoch 14/20\n",
      "110288/110288 [==============================] - 8s - loss: 0.6989 - acc: 0.7643 - val_loss: nan - val_acc: 0.8008\n",
      "Epoch 15/20\n",
      "110288/110288 [==============================] - 8s - loss: 0.6856 - acc: 0.7687 - val_loss: nan - val_acc: 0.8071\n",
      "Epoch 16/20\n",
      "110288/110288 [==============================] - 8s - loss: 0.6705 - acc: 0.7738 - val_loss: nan - val_acc: 0.8121\n",
      "Epoch 17/20\n",
      "110288/110288 [==============================] - 8s - loss: 0.6584 - acc: 0.7784 - val_loss: nan - val_acc: 0.8065\n",
      "Epoch 18/20\n",
      "110288/110288 [==============================] - 8s - loss: 0.6458 - acc: 0.7827 - val_loss: nan - val_acc: 0.8189\n",
      "Epoch 19/20\n",
      "110288/110288 [==============================] - 8s - loss: 0.6346 - acc: 0.7863 - val_loss: nan - val_acc: 0.8279\n",
      "Epoch 20/20\n",
      "110288/110288 [==============================] - 8s - loss: 0.6245 - acc: 0.7901 - val_loss: nan - val_acc: 0.8297\n",
      "new jersey est parfois calme en mois de il automne neigeux est neigeux en <PAD> <PAD> <PAD> <PAD> <PAD> <PAD> <PAD>\n"
     ]
    }
   ],
   "source": [
    "from keras.layers import GRU, Input, Dense, TimeDistributed\n",
    "from keras.models import Model,Sequential\n",
    "from keras.layers import Activation,Dropout\n",
    "from keras.optimizers import Adam\n",
    "from keras.losses import sparse_categorical_crossentropy\n",
    "\n",
    "\n",
    "def simple_model(input_shape, output_sequence_length, english_vocab_size, french_vocab_size):\n",
    "    \"\"\"\n",
    "    Build and train a basic RNN on x and y\n",
    "    :param input_shape: Tuple of input shape\n",
    "    :param output_sequence_length: Length of output sequence\n",
    "    :param english_vocab_size: Number of unique English words in the dataset\n",
    "    :param french_vocab_size: Number of unique French words in the dataset\n",
    "    :return: Keras model built, but not trained\n",
    "    \"\"\"\n",
    "    # TODO: Build the layers\n",
    "    learning_rate = 0.001\n",
    "    x_t = Input(shape=input_shape)\n",
    "    model = Sequential()\n",
    "    model.add(GRU(128,input_shape = input_shape[1:],return_sequences=True))\n",
    "    model.add(Dropout(0.2))\n",
    "    model.add(TimeDistributed(Dense(1024,activation=\"relu\")))    \n",
    "    model.add(Dropout(0.2))\n",
    "    model.add(TimeDistributed(Dense(french_vocab_size,activation=\"softmax\")))    \n",
    "    model.compile(loss=sparse_categorical_crossentropy,\n",
    "                  optimizer=Adam(learning_rate),\n",
    "                  metrics=['accuracy'])\n",
    "    return model\n",
    "tests.test_simple_model(simple_model)\n",
    "\n",
    "\n",
    "# Reshaping the input to work with a basic RNN\n",
    "tmp_x = pad(preproc_english_sentences, preproc_french_sentences.shape[1])\n",
    "tmp_x = tmp_x.reshape((-1, preproc_french_sentences.shape[-2], 1))\n",
    "\n",
    "# Train the neural network\n",
    "simple_rnn_model = simple_model(\n",
    "    tmp_x.shape,\n",
    "    preproc_french_sentences.shape[1],\n",
    "    len(english_tokenizer.word_index),\n",
    "    len(french_tokenizer.word_index))\n",
    "simple_rnn_model.fit(tmp_x, preproc_french_sentences, batch_size=256, epochs=20, validation_split=0.2)\n",
    "\n",
    "# Print prediction(s)\n",
    "print(logits_to_text(simple_rnn_model.predict(tmp_x[:1])[0], french_tokenizer))"
   ]
  },
  {
   "cell_type": "markdown",
   "metadata": {},
   "source": [
    "### Model 2: Embedding (IMPLEMENTATION)\n",
    "![RNN](images/embedding.png)\n",
    "You've turned the words into ids, but there's a better representation of a word.  This is called word embeddings.  An embedding is a vector representation of the word that is close to similar words in n-dimensional space, where the n represents the size of the embedding vectors.\n",
    "\n",
    "In this model, you'll create a RNN model using embedding."
   ]
  },
  {
   "cell_type": "code",
   "execution_count": 104,
   "metadata": {},
   "outputs": [
    {
     "name": "stdout",
     "output_type": "stream",
     "text": [
      "_________________________________________________________________\n",
      "Layer (type)                 Output Shape              Param #   \n",
      "=================================================================\n",
      "embedding_87 (Embedding)     (None, 21, 128)           25472     \n",
      "_________________________________________________________________\n",
      "lstm_19 (LSTM)               (None, 21, 128)           131584    \n",
      "_________________________________________________________________\n",
      "time_distributed_155 (TimeDi (None, 21, 1024)          132096    \n",
      "_________________________________________________________________\n",
      "dropout_112 (Dropout)        (None, 21, 1024)          0         \n",
      "_________________________________________________________________\n",
      "time_distributed_156 (TimeDi (None, 21, 344)           352600    \n",
      "=================================================================\n",
      "Total params: 641,752\n",
      "Trainable params: 641,752\n",
      "Non-trainable params: 0\n",
      "_________________________________________________________________\n",
      "Train on 110288 samples, validate on 27573 samples\n",
      "Epoch 1/20\n",
      "110288/110288 [==============================] - 12s - loss: 1.6891 - acc: 0.6165 - val_loss: nan - val_acc: 0.8010\n",
      "Epoch 2/20\n",
      "110288/110288 [==============================] - 10s - loss: 0.5829 - acc: 0.8201 - val_loss: nan - val_acc: 0.8556\n",
      "Epoch 3/20\n",
      "110288/110288 [==============================] - 10s - loss: 0.4328 - acc: 0.8579 - val_loss: nan - val_acc: 0.8853\n",
      "Epoch 4/20\n",
      "110288/110288 [==============================] - 10s - loss: 0.3597 - acc: 0.8807 - val_loss: nan - val_acc: 0.8999\n",
      "Epoch 5/20\n",
      "110288/110288 [==============================] - 10s - loss: 0.3165 - acc: 0.8936 - val_loss: nan - val_acc: 0.9056\n",
      "Epoch 6/20\n",
      "110288/110288 [==============================] - 10s - loss: 0.2882 - acc: 0.9022 - val_loss: nan - val_acc: 0.9147\n",
      "Epoch 7/20\n",
      "110288/110288 [==============================] - 10s - loss: 0.2678 - acc: 0.9086 - val_loss: nan - val_acc: 0.9184\n",
      "Epoch 8/20\n",
      "110288/110288 [==============================] - 10s - loss: 0.2521 - acc: 0.9132 - val_loss: nan - val_acc: 0.9212\n",
      "Epoch 9/20\n",
      "110288/110288 [==============================] - 10s - loss: 0.2396 - acc: 0.9170 - val_loss: nan - val_acc: 0.9240\n",
      "Epoch 10/20\n",
      "110288/110288 [==============================] - 10s - loss: 0.2296 - acc: 0.9198 - val_loss: nan - val_acc: 0.9256\n",
      "Epoch 11/20\n",
      "110288/110288 [==============================] - 10s - loss: 0.2221 - acc: 0.9222 - val_loss: nan - val_acc: 0.9269\n",
      "Epoch 12/20\n",
      "110288/110288 [==============================] - 10s - loss: 0.2151 - acc: 0.9241 - val_loss: nan - val_acc: 0.9286:\n",
      "Epoch 13/20\n",
      "110288/110288 [==============================] - 10s - loss: 0.2094 - acc: 0.9259 - val_loss: nan - val_acc: 0.9301\n",
      "Epoch 14/20\n",
      "110288/110288 [==============================] - 10s - loss: 0.2041 - acc: 0.9277 - val_loss: nan - val_acc: 0.9318\n",
      "Epoch 15/20\n",
      "110288/110288 [==============================] - 10s - loss: 0.1992 - acc: 0.9290 - val_loss: nan - val_acc: 0.9319\n",
      "Epoch 16/20\n",
      "110288/110288 [==============================] - 10s - loss: 0.1957 - acc: 0.9301 - val_loss: nan - val_acc: 0.9333\n",
      "Epoch 17/20\n",
      "110288/110288 [==============================] - 10s - loss: 0.1933 - acc: 0.9308 - val_loss: nan - val_acc: 0.9343\n",
      "Epoch 18/20\n",
      "110288/110288 [==============================] - 10s - loss: 0.1897 - acc: 0.9320 - val_loss: nan - val_acc: 0.9346\n",
      "Epoch 19/20\n",
      "110288/110288 [==============================] - 10s - loss: 0.1871 - acc: 0.9327 - val_loss: nan - val_acc: 0.9353\n",
      "Epoch 20/20\n",
      "110288/110288 [==============================] - 10s - loss: 0.1849 - acc: 0.9335 - val_loss: nan - val_acc: 0.9360\n",
      "new jersey est parfois calme en l' automne et il est neigeux en avril <PAD> <PAD> <PAD> <PAD> <PAD> <PAD> <PAD>\n"
     ]
    }
   ],
   "source": [
    "from keras.layers.embeddings import Embedding\n",
    "from keras.layers import Embedding, LSTM, Dense, Dropout\n",
    "from keras.models import Model,Sequential\n",
    "\n",
    "\n",
    "def embed_model(input_shape, output_sequence_length, english_vocab_size, french_vocab_size):\n",
    "    \"\"\"\n",
    "    Build and train a RNN model using word embedding on x and y\n",
    "    :param input_shape: Tuple of input shape\n",
    "    :param output_sequence_length: Length of output sequence\n",
    "    :param english_vocab_size: Number of unique English words in the dataset\n",
    "    :param french_vocab_size: Number of unique French words in the dataset\n",
    "    :return: Keras model built, but not trained\n",
    "    \"\"\"\n",
    "    # TODO: Implement\n",
    "    model = Sequential()\n",
    "    learning_rate = 0.001\n",
    "    model.add(Embedding(input_dim = english_vocab_size, output_dim = 128,input_length=input_shape[1]))\n",
    "    model.add(LSTM(128, dropout=0.2,return_sequences=True))\n",
    "    model.add(TimeDistributed(Dense(1024,activation=\"relu\")))    \n",
    "    model.add(Dropout(0.2))\n",
    "    model.add(TimeDistributed(Dense(french_vocab_size, activation='softmax')))\n",
    "    model.compile(loss=sparse_categorical_crossentropy,\n",
    "                  optimizer=Adam(learning_rate),\n",
    "                  metrics=['accuracy'])\n",
    "\n",
    "    return model\n",
    "\n",
    "tests.test_embed_model(embed_model)\n",
    "\n",
    "\n",
    "# TODO: Reshape and pad the input\n",
    "tmp_x = pad(preproc_english_sentences, preproc_french_sentences.shape[1])\n",
    "\n",
    "# Reshape is not needed\n",
    "# tmp_x = tmp_x.reshape((-1, preproc_french_sentences.shape[-2], 1))\n",
    "\n",
    "# TODO: Train the neural network\n",
    "embedd_rnn_model = embed_model(\n",
    "    tmp_x.shape,\n",
    "    preproc_french_sentences.shape[1],\n",
    "    len(english_tokenizer.word_index),\n",
    "    len(french_tokenizer.word_index))\n",
    "embedd_rnn_model.summary()\n",
    "embedd_rnn_model.fit(tmp_x, preproc_french_sentences, batch_size=256, epochs=20, validation_split=0.2)\n",
    "\n",
    "# TODO: Print prediction(s)\n",
    "print(logits_to_text(embedd_rnn_model.predict(tmp_x[:1])[0], french_tokenizer))"
   ]
  },
  {
   "cell_type": "markdown",
   "metadata": {},
   "source": [
    "### Model 3: Bidirectional RNNs (IMPLEMENTATION)\n",
    "![RNN](images/bidirectional.png)\n",
    "One restriction of a RNN is that it can't see the future input, only the past.  This is where bidirectional recurrent neural networks come in.  They are able to see the future data."
   ]
  },
  {
   "cell_type": "code",
   "execution_count": 105,
   "metadata": {},
   "outputs": [
    {
     "name": "stdout",
     "output_type": "stream",
     "text": [
      "_________________________________________________________________\n",
      "Layer (type)                 Output Shape              Param #   \n",
      "=================================================================\n",
      "bidirectional_141 (Bidirecti (None, 21, 256)           99840     \n",
      "_________________________________________________________________\n",
      "dropout_115 (Dropout)        (None, 21, 256)           0         \n",
      "_________________________________________________________________\n",
      "time_distributed_159 (TimeDi (None, 21, 1024)          263168    \n",
      "_________________________________________________________________\n",
      "dropout_116 (Dropout)        (None, 21, 1024)          0         \n",
      "_________________________________________________________________\n",
      "time_distributed_160 (TimeDi (None, 21, 344)           352600    \n",
      "=================================================================\n",
      "Total params: 715,608\n",
      "Trainable params: 715,608\n",
      "Non-trainable params: 0\n",
      "_________________________________________________________________\n",
      "Train on 110288 samples, validate on 27573 samples\n",
      "Epoch 1/20\n",
      "110288/110288 [==============================] - 16s - loss: 1.6066 - acc: 0.5959 - val_loss: nan - val_acc: 0.6599\n",
      "Epoch 2/20\n",
      "110288/110288 [==============================] - 13s - loss: 1.1459 - acc: 0.6584 - val_loss: nan - val_acc: 0.6818\n",
      "Epoch 3/20\n",
      "110288/110288 [==============================] - 13s - loss: 1.0409 - acc: 0.6748 - val_loss: nan - val_acc: 0.6968\n",
      "Epoch 4/20\n",
      "110288/110288 [==============================] - 13s - loss: 0.9776 - acc: 0.6844 - val_loss: nan - val_acc: 0.7080\n",
      "Epoch 5/20\n",
      "110288/110288 [==============================] - 13s - loss: 0.9293 - acc: 0.6929 - val_loss: nan - val_acc: 0.7168\n",
      "Epoch 6/20\n",
      "110288/110288 [==============================] - 13s - loss: 0.8842 - acc: 0.7031 - val_loss: nan - val_acc: 0.7369\n",
      "Epoch 7/20\n",
      "110288/110288 [==============================] - 13s - loss: 0.8370 - acc: 0.7180 - val_loss: nan - val_acc: 0.7536\n",
      "Epoch 8/20\n",
      "110288/110288 [==============================] - 13s - loss: 0.7942 - acc: 0.7318 - val_loss: nan - val_acc: 0.7733\n",
      "Epoch 9/20\n",
      "110288/110288 [==============================] - 13s - loss: 0.7605 - acc: 0.7424 - val_loss: nan - val_acc: 0.7825\n",
      "Epoch 10/20\n",
      "110288/110288 [==============================] - 13s - loss: 0.7326 - acc: 0.7510 - val_loss: nan - val_acc: 0.7941\n",
      "Epoch 11/20\n",
      "110288/110288 [==============================] - 13s - loss: 0.7111 - acc: 0.7569 - val_loss: nan - val_acc: 0.7963\n",
      "Epoch 12/20\n",
      "110288/110288 [==============================] - 14s - loss: 0.6937 - acc: 0.7617 - val_loss: nan - val_acc: 0.8016\n",
      "Epoch 13/20\n",
      "110288/110288 [==============================] - 14s - loss: 0.6746 - acc: 0.7673 - val_loss: nan - val_acc: 0.8046\n",
      "Epoch 14/20\n",
      "110288/110288 [==============================] - 13s - loss: 0.6603 - acc: 0.7714 - val_loss: nan - val_acc: 0.8099\n",
      "Epoch 15/20\n",
      "110288/110288 [==============================] - 13s - loss: 0.6440 - acc: 0.7769 - val_loss: nan - val_acc: 0.8009\n",
      "Epoch 16/20\n",
      "110288/110288 [==============================] - 14s - loss: 0.6335 - acc: 0.7800 - val_loss: nan - val_acc: 0.8203\n",
      "Epoch 17/20\n",
      "110288/110288 [==============================] - 14s - loss: 0.6194 - acc: 0.7851 - val_loss: nan - val_acc: 0.8276\n",
      "Epoch 18/20\n",
      "110288/110288 [==============================] - 14s - loss: 0.6099 - acc: 0.7883 - val_loss: nan - val_acc: 0.8304\n",
      "Epoch 19/20\n",
      "110288/110288 [==============================] - 14s - loss: 0.5986 - acc: 0.7922 - val_loss: nan - val_acc: 0.8191\n",
      "Epoch 20/20\n",
      "110288/110288 [==============================] - 13s - loss: 0.5882 - acc: 0.7959 - val_loss: nan - val_acc: 0.8362\n",
      "new jersey est parfois calme en mois et il est neigeux est en en <PAD> <PAD> <PAD> <PAD> <PAD> <PAD> <PAD>\n"
     ]
    }
   ],
   "source": [
    "from keras.layers import Bidirectional\n",
    "from keras.layers.embeddings import Embedding\n",
    "from keras.layers import Embedding, LSTM, Dense, Dropout\n",
    "from keras.models import Model,Sequential\n",
    "from keras.layers import GRU, Input, Dense, TimeDistributed\n",
    "from keras.losses import sparse_categorical_crossentropy\n",
    "\n",
    "def bd_model(input_shape, output_sequence_length, english_vocab_size, french_vocab_size):\n",
    "    \"\"\"\n",
    "    Build and train a bidirectional RNN model on x and y\n",
    "    :param input_shape: Tuple of input shape\n",
    "    :param output_sequence_length: Length of output sequence\n",
    "    :param english_vocab_size: Number of unique English words in the dataset\n",
    "    :param french_vocab_size: Number of unique French words in the dataset\n",
    "    :return: Keras model built, but not trained\n",
    "    \"\"\"\n",
    "    # TODO: Implement\n",
    "    model = Sequential()\n",
    "    learning_rate = 0.001\n",
    "    model.add(Bidirectional(GRU(128,input_shape = input_shape[1:],return_sequences=True),input_shape=input_shape[1:]))\n",
    "    model.add(Dropout(0.3))\n",
    "    model.add(TimeDistributed(Dense(1024,activation=\"relu\")))    \n",
    "    model.add(Dropout(0.3))\n",
    "    model.add(TimeDistributed(Dense(french_vocab_size, activation='softmax')))\n",
    "    model.compile(loss=sparse_categorical_crossentropy,\n",
    "                  optimizer=Adam(learning_rate),\n",
    "                  metrics=['accuracy'])\n",
    "\n",
    "    return model\n",
    "tests.test_bd_model(bd_model)\n",
    "\n",
    "#Reshape and pad the input\n",
    "tmp_x = pad(preproc_english_sentences, preproc_french_sentences.shape[1])\n",
    "tmp_x = tmp_x.reshape((-1, preproc_french_sentences.shape[-2], 1))\n",
    "\n",
    "# TODO: Train the neural network\n",
    "bd_rnn_model = bd_model(\n",
    "    tmp_x.shape,\n",
    "    preproc_french_sentences.shape[1],\n",
    "    len(english_tokenizer.word_index),\n",
    "    len(french_tokenizer.word_index))\n",
    "bd_rnn_model.summary()\n",
    "bd_rnn_model.fit(tmp_x, preproc_french_sentences, batch_size=256, epochs=20, validation_split=0.2)\n",
    "\n",
    "# TODO: Print prediction(s)\n",
    "print(logits_to_text(bd_rnn_model.predict(tmp_x[:1])[0], french_tokenizer))"
   ]
  },
  {
   "cell_type": "markdown",
   "metadata": {},
   "source": [
    "### Model 4: Encoder-Decoder (OPTIONAL)\n",
    "Time to look at encoder-decoder models.  This model is made up of an encoder and decoder. The encoder creates a matrix representation of the sentence.  The decoder takes this matrix as input and predicts the translation as output.\n",
    "\n",
    "Create an encoder-decoder model in the cell below."
   ]
  },
  {
   "cell_type": "code",
   "execution_count": null,
   "metadata": {
    "collapsed": true
   },
   "outputs": [],
   "source": [
    "from keras.layers import RepeatVector\n",
    "\n",
    "\n",
    "def encdec_model(input_shape, output_sequence_length, english_vocab_size, french_vocab_size):\n",
    "    \"\"\"\n",
    "    Build and train an encoder-decoder model on x and y\n",
    "    :param input_shape: Tuple of input shape\n",
    "    :param output_sequence_length: Length of output sequence\n",
    "    :param english_vocab_size: Number of unique English words in the dataset\n",
    "    :param french_vocab_size: Number of unique French words in the dataset\n",
    "    :return: Keras model built, but not trained\n",
    "    \"\"\"\n",
    "    # OPTIONAL: Implement\n",
    "    return None\n",
    "tests.test_encdec_model(encdec_model)\n",
    "\n",
    "\n",
    "# OPTIONAL: Train and Print prediction(s)"
   ]
  },
  {
   "cell_type": "markdown",
   "metadata": {},
   "source": [
    "### Model 5: Custom (IMPLEMENTATION)\n",
    "Use everything you learned from the previous models to create a model that incorporates embedding and a bidirectional rnn into one model."
   ]
  },
  {
   "cell_type": "code",
   "execution_count": 106,
   "metadata": {},
   "outputs": [
    {
     "name": "stdout",
     "output_type": "stream",
     "text": [
      "Final Model Loaded\n"
     ]
    }
   ],
   "source": [
    "def model_final(input_shape, output_sequence_length, english_vocab_size, french_vocab_size):\n",
    "    \"\"\"\n",
    "    Build and train a model that incorporates embedding, encoder-decoder, and bidirectional RNN on x and y\n",
    "    :param input_shape: Tuple of input shape\n",
    "    :param output_sequence_length: Length of output sequence\n",
    "    :param english_vocab_size: Number of unique English words in the dataset\n",
    "    :param french_vocab_size: Number of unique French words in the dataset\n",
    "    :return: Keras model built, but not trained\n",
    "    \"\"\"        \n",
    "    # TODO: Implement\n",
    "    model = Sequential()\n",
    "    learning_rate = 0.001\n",
    "        \n",
    "    model.add(Embedding(input_dim = english_vocab_size, output_dim = 128,input_length=input_shape[1],input_shape=input_shape[1:]))\n",
    "    model.add(Bidirectional(GRU(128,input_shape = input_shape[1:])))\n",
    "    \n",
    "    # A repeat vector is needed https://discussions.udacity.com/t/final-model-output-size-problem/329813/5?u=spiros\n",
    "    # Because of this error:\n",
    "    # Wrong output shape. Found output shape (None, 15, 344) using parameters output_sequence_length=21 and french_vocab_size=344\n",
    "    model.add(RepeatVector(output_sequence_length))\n",
    "    \n",
    "    model.add(Bidirectional(GRU(128,input_shape = input_shape[1:],return_sequences=True),input_shape=input_shape[1:]))\n",
    "    model.add(Dropout(0.2))\n",
    "    model.add(TimeDistributed(Dense(1024,activation=\"relu\")))    \n",
    "    model.add(Dropout(0.2))\n",
    "    model.add(TimeDistributed(Dense(french_vocab_size, activation='softmax')))\n",
    "    model.compile(loss=sparse_categorical_crossentropy,\n",
    "                  optimizer=Adam(learning_rate),\n",
    "                  metrics=['accuracy'])\n",
    "\n",
    "    return model\n",
    "tests.test_model_final(model_final)\n",
    "print('Final Model Loaded')"
   ]
  },
  {
   "cell_type": "markdown",
   "metadata": {},
   "source": [
    "## Prediction (IMPLEMENTATION)"
   ]
  },
  {
   "cell_type": "code",
   "execution_count": 107,
   "metadata": {},
   "outputs": [
    {
     "name": "stdout",
     "output_type": "stream",
     "text": [
      "Train on 110288 samples, validate on 27573 samples\n",
      "Epoch 1/20\n",
      "110288/110288 [==============================] - 26s - loss: 1.8548 - acc: 0.5650 - val_loss: nan - val_acc: 0.6784\n",
      "Epoch 2/20\n",
      "110288/110288 [==============================] - 24s - loss: 1.1050 - acc: 0.6894 - val_loss: nan - val_acc: 0.7404\n",
      "Epoch 3/20\n",
      "110288/110288 [==============================] - 24s - loss: 0.9155 - acc: 0.7339 - val_loss: nan - val_acc: 0.7756\n",
      "Epoch 4/20\n",
      "110288/110288 [==============================] - 24s - loss: 0.7739 - acc: 0.7700 - val_loss: nan - val_acc: 0.8117\n",
      "Epoch 5/20\n",
      "110288/110288 [==============================] - 24s - loss: 0.6390 - acc: 0.8046 - val_loss: nan - val_acc: 0.8514\n",
      "Epoch 6/20\n",
      "110288/110288 [==============================] - 25s - loss: 0.5263 - acc: 0.8374 - val_loss: nan - val_acc: 0.8789\n",
      "Epoch 7/20\n",
      "110288/110288 [==============================] - 25s - loss: 0.4355 - acc: 0.8655 - val_loss: nan - val_acc: 0.9040\n",
      "Epoch 8/20\n",
      "110288/110288 [==============================] - 24s - loss: 0.3554 - acc: 0.8898 - val_loss: nan - val_acc: 0.9246\n",
      "Epoch 9/20\n",
      "110288/110288 [==============================] - 25s - loss: 0.2938 - acc: 0.9089 - val_loss: nan - val_acc: 0.9418\n",
      "Epoch 10/20\n",
      "110288/110288 [==============================] - 25s - loss: 0.2465 - acc: 0.9242 - val_loss: nan - val_acc: 0.9468\n",
      "Epoch 11/20\n",
      "110288/110288 [==============================] - 24s - loss: 0.2176 - acc: 0.9330 - val_loss: nan - val_acc: 0.9535\n",
      "Epoch 12/20\n",
      "110288/110288 [==============================] - 24s - loss: 0.1932 - acc: 0.9404 - val_loss: nan - val_acc: 0.9592\n",
      "Epoch 13/20\n",
      "110288/110288 [==============================] - 24s - loss: 0.1767 - acc: 0.9455 - val_loss: nan - val_acc: 0.9600\n",
      "Epoch 14/20\n",
      "110288/110288 [==============================] - 24s - loss: 0.1584 - acc: 0.9513 - val_loss: nan - val_acc: 0.9635\n",
      "Epoch 15/20\n",
      "110288/110288 [==============================] - 24s - loss: 0.1461 - acc: 0.9549 - val_loss: nan - val_acc: 0.9666\n",
      "Epoch 16/20\n",
      "110288/110288 [==============================] - 24s - loss: 0.1352 - acc: 0.9583 - val_loss: nan - val_acc: 0.9687\n",
      "Epoch 17/20\n",
      "110288/110288 [==============================] - 24s - loss: 0.1235 - acc: 0.9618 - val_loss: nan - val_acc: 0.9706\n",
      "Epoch 18/20\n",
      "110288/110288 [==============================] - 24s - loss: 0.1180 - acc: 0.9633 - val_loss: nan - val_acc: 0.9721\n",
      "Epoch 19/20\n",
      "110288/110288 [==============================] - 23s - loss: 0.1074 - acc: 0.9667 - val_loss: nan - val_acc: 0.9728\n",
      "Epoch 20/20\n",
      "110288/110288 [==============================] - 23s - loss: 0.1032 - acc: 0.9676 - val_loss: nan - val_acc: 0.9746\n",
      "Sample 1:\n",
      "il a vu un vieux camion jaune <PAD> <PAD> <PAD> <PAD> <PAD> <PAD> <PAD> <PAD> <PAD> <PAD> <PAD> <PAD> <PAD> <PAD>\n",
      "Il a vu un vieux camion jaune\n",
      "Sample 2:\n",
      "new jersey est parfois calme pendant l' automne et il est neigeux en avril <PAD> <PAD> <PAD> <PAD> <PAD> <PAD> <PAD>\n",
      "<PAD> <PAD> <PAD> <PAD> <PAD> <PAD> <PAD> <PAD> <PAD> <PAD> <PAD> <PAD> <PAD> <PAD> <PAD> <PAD> <PAD> <PAD> <PAD> <PAD> <PAD>\n"
     ]
    }
   ],
   "source": [
    "import numpy as np\n",
    "from keras.preprocessing.sequence import pad_sequences\n",
    "\n",
    "\n",
    "def final_predictions(x, y, x_tk, y_tk):\n",
    "    \"\"\"\n",
    "    Gets predictions using the final model\n",
    "    :param x: Preprocessed English data\n",
    "    :param y: Preprocessed French data\n",
    "    :param x_tk: English tokenizer\n",
    "    :param y_tk: French tokenizer\n",
    "    \"\"\"\n",
    "    # TODO: Train neural network using model_final\n",
    "    \n",
    "    # Padding the input is required here\n",
    "    x = pad(x, y.shape[1])\n",
    "\n",
    "    model = model_final(\n",
    "        x.shape,\n",
    "        y.shape[1],\n",
    "        len(x_tk.word_index),\n",
    "        len(y_tk.word_index))\n",
    "    model.fit(x, y, batch_size=256, epochs=20, validation_split=0.2)\n",
    "\n",
    "    ## DON'T EDIT ANYTHING BELOW THIS LINE\n",
    "    y_id_to_word = {value: key for key, value in y_tk.word_index.items()}\n",
    "    y_id_to_word[0] = '<PAD>'\n",
    "\n",
    "    sentence = 'he saw a old yellow truck'\n",
    "    sentence = [x_tk.word_index[word] for word in sentence.split()]\n",
    "    sentence = pad_sequences([sentence], maxlen=x.shape[-1], padding='post')\n",
    "    sentences = np.array([sentence[0], x[0]])\n",
    "    predictions = model.predict(sentences, len(sentences))\n",
    "\n",
    "    print('Sample 1:')\n",
    "    print(' '.join([y_id_to_word[np.argmax(x)] for x in predictions[0]]))\n",
    "    print('Il a vu un vieux camion jaune')\n",
    "    print('Sample 2:')\n",
    "    print(' '.join([y_id_to_word[np.argmax(x)] for x in predictions[1]]))\n",
    "    print(' '.join([y_id_to_word[np.argmax(x)] for x in y[0]]))\n",
    "\n",
    "\n",
    "final_predictions(preproc_english_sentences, preproc_french_sentences, english_tokenizer, french_tokenizer)"
   ]
  },
  {
   "cell_type": "markdown",
   "metadata": {},
   "source": [
    "## Submission\n",
    "When you are ready to submit your project, do the following steps:\n",
    "1. Ensure you pass all points on the [rubric](https://review.udacity.com/#!/rubrics/1004/view).\n",
    "2. Submit the following in a zip file.\n",
    "  - `helper.py`\n",
    "  - `machine_translation.ipynb`\n",
    "  - `machine_translation.html`\n",
    "    - You can export the notebook by navigating to **File -> Download as -> HTML (.html)**."
   ]
  },
  {
   "cell_type": "code",
   "execution_count": null,
   "metadata": {
    "collapsed": true
   },
   "outputs": [],
   "source": []
  }
 ],
 "metadata": {
  "kernelspec": {
   "display_name": "Python 3",
   "language": "python",
   "name": "python3"
  },
  "language_info": {
   "codemirror_mode": {
    "name": "ipython",
    "version": 3
   },
   "file_extension": ".py",
   "mimetype": "text/x-python",
   "name": "python",
   "nbconvert_exporter": "python",
   "pygments_lexer": "ipython3",
   "version": "3.6.3"
  }
 },
 "nbformat": 4,
 "nbformat_minor": 1
}
